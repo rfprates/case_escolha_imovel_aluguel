{
  "cells": [
    {
      "cell_type": "markdown",
      "metadata": {
        "colab_type": "text",
        "id": "view-in-github"
      },
      "source": [
        "<a href=\"https://colab.research.google.com/github/rfprates/case_escolha_imovel_aluguel/blob/main/Case_aluguel_imovel.ipynb\" target=\"_parent\"><img src=\"https://colab.research.google.com/assets/colab-badge.svg\" alt=\"Open In Colab\"/></a>"
      ]
    },
    {
      "cell_type": "markdown",
      "metadata": {
        "id": "Yb-B0-cpSrOG"
      },
      "source": [
        "# Case - Escolha de imóvel para aluguel"
      ]
    },
    {
      "cell_type": "markdown",
      "metadata": {
        "id": "-Hlk5qusSYoc"
      },
      "source": [
        "## Introdução\n",
        "\n",
        "Um casal de brasileiros está de mudança para a Europa, especificamente para a região da Península Hibérica (Portugal e Espanha). Por indicações de agências imobiliárias internacionais e amigos, a preferência para residir se restringiu a duas cidades, Porto e Barcelona.\n",
        "\n",
        "Após pesquisas rápidas em bancos de dados imobiliários dos apartamentos e casas disponíveis em ambas as cidades, o casal unificou todas as informações em um dataset único. \n",
        "\n",
        "Teste commit!!"
      ]
    },
    {
      "cell_type": "markdown",
      "metadata": {
        "id": "UpVv2uLXSVNa"
      },
      "source": [
        "## Objetivo do Projeto\n",
        "\n",
        "O objetivo deste projeto é selecionar, dentro todos os imóveis disponíveis para locação, aquele que tem o melhor custo benefício e que atenda todas as demandas do casal."
      ]
    },
    {
      "cell_type": "markdown",
      "metadata": {
        "id": "wf6maColP6ZU"
      },
      "source": [
        "## Premissas do Projeto\n",
        "\n",
        "* Gastar até 4000,00 euros com despesas totais do imóvel alugado;\n",
        "* É necessário um imóvel que aceite animais de extimação;\n",
        "* Apartamentos com 2 ou 3 quartos, pois o casal trabalha em modelo home-office, e portanto pretendem fazer um escritório de trabalho com um dos quartos;\n",
        "* Preferência para imóveis em andares mais elevados."
      ]
    },
    {
      "cell_type": "markdown",
      "metadata": {
        "id": "sjK0YyIRSat4"
      },
      "source": [
        "## Análise Descritiva dos Dados"
      ]
    },
    {
      "cell_type": "code",
      "execution_count": 5,
      "metadata": {
        "id": "DViXKZeUSmxQ"
      },
      "outputs": [],
      "source": [
        "import pandas as pd"
      ]
    },
    {
      "cell_type": "code",
      "execution_count": 6,
      "metadata": {
        "id": "aLU8iAjYSvNO"
      },
      "outputs": [],
      "source": [
        "aluguel_casa = pd.read_excel('houses_rent.xlsx')"
      ]
    },
    {
      "cell_type": "markdown",
      "metadata": {
        "id": "05oU_NzbUHbJ"
      },
      "source": [
        "Acessando-se as 5 primeiras linhas do dataset,"
      ]
    },
    {
      "cell_type": "code",
      "execution_count": 7,
      "metadata": {
        "colab": {
          "base_uri": "https://localhost:8080/",
          "height": 206
        },
        "id": "dDDTbSmETQcA",
        "outputId": "1f69333f-4739-4656-b4ad-4b17c4244e5b"
      },
      "outputs": [
        {
          "data": {
            "text/html": [
              "<div>\n",
              "<style scoped>\n",
              "    .dataframe tbody tr th:only-of-type {\n",
              "        vertical-align: middle;\n",
              "    }\n",
              "\n",
              "    .dataframe tbody tr th {\n",
              "        vertical-align: top;\n",
              "    }\n",
              "\n",
              "    .dataframe thead th {\n",
              "        text-align: right;\n",
              "    }\n",
              "</style>\n",
              "<table border=\"1\" class=\"dataframe\">\n",
              "  <thead>\n",
              "    <tr style=\"text-align: right;\">\n",
              "      <th></th>\n",
              "      <th>index</th>\n",
              "      <th>city</th>\n",
              "      <th>area</th>\n",
              "      <th>rooms</th>\n",
              "      <th>bathroom</th>\n",
              "      <th>parking spaces</th>\n",
              "      <th>floor</th>\n",
              "      <th>animal</th>\n",
              "      <th>furniture</th>\n",
              "      <th>hoa</th>\n",
              "      <th>rent amount</th>\n",
              "      <th>property tax</th>\n",
              "      <th>fire insurance</th>\n",
              "      <th>total</th>\n",
              "    </tr>\n",
              "  </thead>\n",
              "  <tbody>\n",
              "    <tr>\n",
              "      <th>0</th>\n",
              "      <td>0</td>\n",
              "      <td>Barcelona</td>\n",
              "      <td>240</td>\n",
              "      <td>3</td>\n",
              "      <td>3</td>\n",
              "      <td>4</td>\n",
              "      <td>-</td>\n",
              "      <td>accept</td>\n",
              "      <td>furnished</td>\n",
              "      <td>600</td>\n",
              "      <td>8000</td>\n",
              "      <td>1000</td>\n",
              "      <td>121</td>\n",
              "      <td>9121</td>\n",
              "    </tr>\n",
              "    <tr>\n",
              "      <th>1</th>\n",
              "      <td>1</td>\n",
              "      <td>Porto</td>\n",
              "      <td>64</td>\n",
              "      <td>2</td>\n",
              "      <td>1</td>\n",
              "      <td>1</td>\n",
              "      <td>10</td>\n",
              "      <td>accept</td>\n",
              "      <td>not furnished</td>\n",
              "      <td>540</td>\n",
              "      <td>820</td>\n",
              "      <td>122</td>\n",
              "      <td>11</td>\n",
              "      <td>1493</td>\n",
              "    </tr>\n",
              "    <tr>\n",
              "      <th>2</th>\n",
              "      <td>2</td>\n",
              "      <td>Barcelona</td>\n",
              "      <td>443</td>\n",
              "      <td>5</td>\n",
              "      <td>5</td>\n",
              "      <td>4</td>\n",
              "      <td>3</td>\n",
              "      <td>accept</td>\n",
              "      <td>furnished</td>\n",
              "      <td>4172</td>\n",
              "      <td>7000</td>\n",
              "      <td>1417</td>\n",
              "      <td>89</td>\n",
              "      <td>12680</td>\n",
              "    </tr>\n",
              "    <tr>\n",
              "      <th>3</th>\n",
              "      <td>3</td>\n",
              "      <td>Barcelona</td>\n",
              "      <td>73</td>\n",
              "      <td>2</td>\n",
              "      <td>2</td>\n",
              "      <td>1</td>\n",
              "      <td>12</td>\n",
              "      <td>accept</td>\n",
              "      <td>not furnished</td>\n",
              "      <td>700</td>\n",
              "      <td>1250</td>\n",
              "      <td>150</td>\n",
              "      <td>16</td>\n",
              "      <td>2116</td>\n",
              "    </tr>\n",
              "    <tr>\n",
              "      <th>4</th>\n",
              "      <td>4</td>\n",
              "      <td>Barcelona</td>\n",
              "      <td>19</td>\n",
              "      <td>1</td>\n",
              "      <td>1</td>\n",
              "      <td>0</td>\n",
              "      <td>-</td>\n",
              "      <td>not accept</td>\n",
              "      <td>not furnished</td>\n",
              "      <td>0</td>\n",
              "      <td>1200</td>\n",
              "      <td>41</td>\n",
              "      <td>16</td>\n",
              "      <td>1257</td>\n",
              "    </tr>\n",
              "  </tbody>\n",
              "</table>\n",
              "</div>"
            ],
            "text/plain": [
              "   index       city  area  rooms  bathroom  parking spaces floor      animal  \\\n",
              "0      0  Barcelona   240      3         3               4     -      accept   \n",
              "1      1      Porto    64      2         1               1    10      accept   \n",
              "2      2  Barcelona   443      5         5               4     3      accept   \n",
              "3      3  Barcelona    73      2         2               1    12      accept   \n",
              "4      4  Barcelona    19      1         1               0     -  not accept   \n",
              "\n",
              "       furniture   hoa  rent amount  property tax  fire insurance  total  \n",
              "0      furnished   600         8000          1000             121   9121  \n",
              "1  not furnished   540          820           122              11   1493  \n",
              "2      furnished  4172         7000          1417              89  12680  \n",
              "3  not furnished   700         1250           150              16   2116  \n",
              "4  not furnished     0         1200            41              16   1257  "
            ]
          },
          "execution_count": 7,
          "metadata": {},
          "output_type": "execute_result"
        }
      ],
      "source": [
        "aluguel_casa.head()"
      ]
    },
    {
      "cell_type": "markdown",
      "metadata": {
        "id": "F9ZugApeX5A_"
      },
      "source": [
        "Com o cabeçalho do dataset exposto acima, podemos verificar as colunas e o tipo de informações que cada uma retorna:\n",
        "\n",
        "* index = número das linhas do dataset;\n",
        "* city = cidade (Porto ou Barcelona);\n",
        "* area = área dos imóveis;\n",
        "* rooms = quantidade de quartos;\n",
        "* bathroom = quantidade de banheiros;\n",
        "* parking spaces = quantidade de vagas de garagem;\n",
        "* floor = andar em que se encontra o imóvel;\n",
        "* animal = aceita animais de estimação ou não;\n",
        "* furniture = imóvel mobiliado ou não;\n",
        "* rent amount = preço do aluguel;\n",
        "* property tax = valor do condomínio;\n",
        "* fire insurance = valor do seguro de incêndio;\n",
        "* total = soma de todos os gastos (aluguel, condomínio e seguro)"
      ]
    },
    {
      "cell_type": "markdown",
      "metadata": {
        "id": "ICw4bnxSVOD9"
      },
      "source": [
        "Por questão de boas práticas, substitui-se os espaços no nome das colunas pelo underline,"
      ]
    },
    {
      "cell_type": "code",
      "execution_count": 8,
      "metadata": {
        "id": "ao41n8q8U_sI"
      },
      "outputs": [],
      "source": [
        "aluguel_casa = aluguel_casa.rename(columns = lambda coluna: '_'.join(coluna.split(' ')))"
      ]
    },
    {
      "cell_type": "code",
      "execution_count": 9,
      "metadata": {
        "colab": {
          "base_uri": "https://localhost:8080/",
          "height": 206
        },
        "id": "zQa1uEZaWUqK",
        "outputId": "8db4905c-4ccb-44dd-eee6-358bdaa14b83"
      },
      "outputs": [
        {
          "data": {
            "text/html": [
              "<div>\n",
              "<style scoped>\n",
              "    .dataframe tbody tr th:only-of-type {\n",
              "        vertical-align: middle;\n",
              "    }\n",
              "\n",
              "    .dataframe tbody tr th {\n",
              "        vertical-align: top;\n",
              "    }\n",
              "\n",
              "    .dataframe thead th {\n",
              "        text-align: right;\n",
              "    }\n",
              "</style>\n",
              "<table border=\"1\" class=\"dataframe\">\n",
              "  <thead>\n",
              "    <tr style=\"text-align: right;\">\n",
              "      <th></th>\n",
              "      <th>index</th>\n",
              "      <th>city</th>\n",
              "      <th>area</th>\n",
              "      <th>rooms</th>\n",
              "      <th>bathroom</th>\n",
              "      <th>parking_spaces</th>\n",
              "      <th>floor</th>\n",
              "      <th>animal</th>\n",
              "      <th>furniture</th>\n",
              "      <th>hoa</th>\n",
              "      <th>rent_amount</th>\n",
              "      <th>property_tax</th>\n",
              "      <th>fire_insurance</th>\n",
              "      <th>total</th>\n",
              "    </tr>\n",
              "  </thead>\n",
              "  <tbody>\n",
              "    <tr>\n",
              "      <th>0</th>\n",
              "      <td>0</td>\n",
              "      <td>Barcelona</td>\n",
              "      <td>240</td>\n",
              "      <td>3</td>\n",
              "      <td>3</td>\n",
              "      <td>4</td>\n",
              "      <td>-</td>\n",
              "      <td>accept</td>\n",
              "      <td>furnished</td>\n",
              "      <td>600</td>\n",
              "      <td>8000</td>\n",
              "      <td>1000</td>\n",
              "      <td>121</td>\n",
              "      <td>9121</td>\n",
              "    </tr>\n",
              "    <tr>\n",
              "      <th>1</th>\n",
              "      <td>1</td>\n",
              "      <td>Porto</td>\n",
              "      <td>64</td>\n",
              "      <td>2</td>\n",
              "      <td>1</td>\n",
              "      <td>1</td>\n",
              "      <td>10</td>\n",
              "      <td>accept</td>\n",
              "      <td>not furnished</td>\n",
              "      <td>540</td>\n",
              "      <td>820</td>\n",
              "      <td>122</td>\n",
              "      <td>11</td>\n",
              "      <td>1493</td>\n",
              "    </tr>\n",
              "    <tr>\n",
              "      <th>2</th>\n",
              "      <td>2</td>\n",
              "      <td>Barcelona</td>\n",
              "      <td>443</td>\n",
              "      <td>5</td>\n",
              "      <td>5</td>\n",
              "      <td>4</td>\n",
              "      <td>3</td>\n",
              "      <td>accept</td>\n",
              "      <td>furnished</td>\n",
              "      <td>4172</td>\n",
              "      <td>7000</td>\n",
              "      <td>1417</td>\n",
              "      <td>89</td>\n",
              "      <td>12680</td>\n",
              "    </tr>\n",
              "    <tr>\n",
              "      <th>3</th>\n",
              "      <td>3</td>\n",
              "      <td>Barcelona</td>\n",
              "      <td>73</td>\n",
              "      <td>2</td>\n",
              "      <td>2</td>\n",
              "      <td>1</td>\n",
              "      <td>12</td>\n",
              "      <td>accept</td>\n",
              "      <td>not furnished</td>\n",
              "      <td>700</td>\n",
              "      <td>1250</td>\n",
              "      <td>150</td>\n",
              "      <td>16</td>\n",
              "      <td>2116</td>\n",
              "    </tr>\n",
              "    <tr>\n",
              "      <th>4</th>\n",
              "      <td>4</td>\n",
              "      <td>Barcelona</td>\n",
              "      <td>19</td>\n",
              "      <td>1</td>\n",
              "      <td>1</td>\n",
              "      <td>0</td>\n",
              "      <td>-</td>\n",
              "      <td>not accept</td>\n",
              "      <td>not furnished</td>\n",
              "      <td>0</td>\n",
              "      <td>1200</td>\n",
              "      <td>41</td>\n",
              "      <td>16</td>\n",
              "      <td>1257</td>\n",
              "    </tr>\n",
              "  </tbody>\n",
              "</table>\n",
              "</div>"
            ],
            "text/plain": [
              "   index       city  area  rooms  bathroom  parking_spaces floor      animal  \\\n",
              "0      0  Barcelona   240      3         3               4     -      accept   \n",
              "1      1      Porto    64      2         1               1    10      accept   \n",
              "2      2  Barcelona   443      5         5               4     3      accept   \n",
              "3      3  Barcelona    73      2         2               1    12      accept   \n",
              "4      4  Barcelona    19      1         1               0     -  not accept   \n",
              "\n",
              "       furniture   hoa  rent_amount  property_tax  fire_insurance  total  \n",
              "0      furnished   600         8000          1000             121   9121  \n",
              "1  not furnished   540          820           122              11   1493  \n",
              "2      furnished  4172         7000          1417              89  12680  \n",
              "3  not furnished   700         1250           150              16   2116  \n",
              "4  not furnished     0         1200            41              16   1257  "
            ]
          },
          "execution_count": 9,
          "metadata": {},
          "output_type": "execute_result"
        }
      ],
      "source": [
        "aluguel_casa.head()"
      ]
    },
    {
      "cell_type": "markdown",
      "metadata": {
        "id": "E9dNaVnoXv8V"
      },
      "source": [
        "Verifica-se agora os tipos de dados de cada coluna,"
      ]
    },
    {
      "cell_type": "code",
      "execution_count": 10,
      "metadata": {
        "colab": {
          "base_uri": "https://localhost:8080/"
        },
        "id": "Sh03X2M9WmWX",
        "outputId": "14672059-d8b3-4812-a10e-6bbddcd20737"
      },
      "outputs": [
        {
          "data": {
            "text/plain": [
              "index              int64\n",
              "city              object\n",
              "area               int64\n",
              "rooms              int64\n",
              "bathroom           int64\n",
              "parking_spaces     int64\n",
              "floor             object\n",
              "animal            object\n",
              "furniture         object\n",
              "hoa               object\n",
              "rent_amount        int64\n",
              "property_tax       int64\n",
              "fire_insurance     int64\n",
              "total              int64\n",
              "dtype: object"
            ]
          },
          "execution_count": 10,
          "metadata": {},
          "output_type": "execute_result"
        }
      ],
      "source": [
        "aluguel_casa.dtypes"
      ]
    },
    {
      "cell_type": "markdown",
      "metadata": {
        "id": "OZe9NxBUYfdq"
      },
      "source": [
        "Convertendo-se os dados da coluna 'rent_amount' para o tipo float,"
      ]
    },
    {
      "cell_type": "code",
      "execution_count": 11,
      "metadata": {
        "id": "CExv0VkjX036"
      },
      "outputs": [],
      "source": [
        "aluguel_casa['rent_amount'] = aluguel_casa['rent_amount'].astype('float')"
      ]
    },
    {
      "cell_type": "code",
      "execution_count": 12,
      "metadata": {
        "colab": {
          "base_uri": "https://localhost:8080/"
        },
        "id": "S03wMOJSYQUB",
        "outputId": "c902d418-c690-46a5-9b4a-bb066e7bc4fc"
      },
      "outputs": [
        {
          "data": {
            "text/plain": [
              "index               int64\n",
              "city               object\n",
              "area                int64\n",
              "rooms               int64\n",
              "bathroom            int64\n",
              "parking_spaces      int64\n",
              "floor              object\n",
              "animal             object\n",
              "furniture          object\n",
              "hoa                object\n",
              "rent_amount       float64\n",
              "property_tax        int64\n",
              "fire_insurance      int64\n",
              "total               int64\n",
              "dtype: object"
            ]
          },
          "execution_count": 12,
          "metadata": {},
          "output_type": "execute_result"
        }
      ],
      "source": [
        "aluguel_casa.dtypes"
      ]
    },
    {
      "cell_type": "markdown",
      "metadata": {
        "id": "Icl9XWbpYxcY"
      },
      "source": [
        "Convertendo-se agora as colunas 'property_tax', 'fire_insurance' e 'total' também para o tipo 'float' :"
      ]
    },
    {
      "cell_type": "code",
      "execution_count": 13,
      "metadata": {
        "id": "plLaiAm2Yme5"
      },
      "outputs": [],
      "source": [
        "aluguel_casa = aluguel_casa.astype({'property_tax':'float', 'fire_insurance':'float', 'total':'float'})"
      ]
    },
    {
      "cell_type": "code",
      "execution_count": 14,
      "metadata": {
        "colab": {
          "base_uri": "https://localhost:8080/"
        },
        "id": "CSMUChA2ZMJC",
        "outputId": "ece1ae24-a0b2-4d29-d5bf-c0ca06daad56"
      },
      "outputs": [
        {
          "data": {
            "text/plain": [
              "index               int64\n",
              "city               object\n",
              "area                int64\n",
              "rooms               int64\n",
              "bathroom            int64\n",
              "parking_spaces      int64\n",
              "floor              object\n",
              "animal             object\n",
              "furniture          object\n",
              "hoa                object\n",
              "rent_amount       float64\n",
              "property_tax      float64\n",
              "fire_insurance    float64\n",
              "total             float64\n",
              "dtype: object"
            ]
          },
          "execution_count": 14,
          "metadata": {},
          "output_type": "execute_result"
        }
      ],
      "source": [
        "aluguel_casa.dtypes"
      ]
    },
    {
      "cell_type": "markdown",
      "metadata": {
        "id": "WapgmIGqZxKM"
      },
      "source": [
        "Acessando-se mais informações do dataset :"
      ]
    },
    {
      "cell_type": "code",
      "execution_count": 15,
      "metadata": {
        "colab": {
          "base_uri": "https://localhost:8080/"
        },
        "id": "iQvXjgqRZUmZ",
        "outputId": "d0abf8c4-59f6-4f06-95a2-7340daf7044f"
      },
      "outputs": [
        {
          "name": "stdout",
          "output_type": "stream",
          "text": [
            "<class 'pandas.core.frame.DataFrame'>\n",
            "RangeIndex: 6080 entries, 0 to 6079\n",
            "Data columns (total 14 columns):\n",
            " #   Column          Non-Null Count  Dtype  \n",
            "---  ------          --------------  -----  \n",
            " 0   index           6080 non-null   int64  \n",
            " 1   city            6080 non-null   object \n",
            " 2   area            6080 non-null   int64  \n",
            " 3   rooms           6080 non-null   int64  \n",
            " 4   bathroom        6080 non-null   int64  \n",
            " 5   parking_spaces  6080 non-null   int64  \n",
            " 6   floor           6080 non-null   object \n",
            " 7   animal          6080 non-null   object \n",
            " 8   furniture       6080 non-null   object \n",
            " 9   hoa             6080 non-null   object \n",
            " 10  rent_amount     6080 non-null   float64\n",
            " 11  property_tax    6080 non-null   float64\n",
            " 12  fire_insurance  6080 non-null   float64\n",
            " 13  total           6080 non-null   float64\n",
            "dtypes: float64(4), int64(5), object(5)\n",
            "memory usage: 665.1+ KB\n"
          ]
        }
      ],
      "source": [
        "aluguel_casa.info()"
      ]
    },
    {
      "cell_type": "markdown",
      "metadata": {
        "id": "dudjOZJSaC09"
      },
      "source": [
        " Ao analisar-se o retorno acima, é possível observar que o dataset não apresenta dados nulos: todas as colunas tem exatamente 6080 entradas de dados não nulos, assim como está descrito no RangeIndex: 6080 entradas."
      ]
    },
    {
      "cell_type": "markdown",
      "metadata": {
        "id": "-DfoOEVfalAU"
      },
      "source": [
        "Avaliou-se então as estatísticas descritivas deste dataset, somente para as colunas com dados numéricos do dataset, exceto a coluna 'index' que só representa os números das linhas."
      ]
    },
    {
      "cell_type": "code",
      "execution_count": 16,
      "metadata": {
        "colab": {
          "base_uri": "https://localhost:8080/",
          "height": 300
        },
        "id": "1SVwuKpGZ3ei",
        "outputId": "94f535d3-34cf-469a-a853-c0d8f432bcfb"
      },
      "outputs": [
        {
          "data": {
            "text/html": [
              "<div>\n",
              "<style scoped>\n",
              "    .dataframe tbody tr th:only-of-type {\n",
              "        vertical-align: middle;\n",
              "    }\n",
              "\n",
              "    .dataframe tbody tr th {\n",
              "        vertical-align: top;\n",
              "    }\n",
              "\n",
              "    .dataframe thead th {\n",
              "        text-align: right;\n",
              "    }\n",
              "</style>\n",
              "<table border=\"1\" class=\"dataframe\">\n",
              "  <thead>\n",
              "    <tr style=\"text-align: right;\">\n",
              "      <th></th>\n",
              "      <th>area</th>\n",
              "      <th>rooms</th>\n",
              "      <th>bathroom</th>\n",
              "      <th>parking_spaces</th>\n",
              "      <th>rent_amount</th>\n",
              "      <th>property_tax</th>\n",
              "      <th>fire_insurance</th>\n",
              "      <th>total</th>\n",
              "    </tr>\n",
              "  </thead>\n",
              "  <tbody>\n",
              "    <tr>\n",
              "      <th>count</th>\n",
              "      <td>6080.000000</td>\n",
              "      <td>6080.000000</td>\n",
              "      <td>6080.000000</td>\n",
              "      <td>6080.000000</td>\n",
              "      <td>6080.000000</td>\n",
              "      <td>6080.000000</td>\n",
              "      <td>6080.000000</td>\n",
              "      <td>6080.000000</td>\n",
              "    </tr>\n",
              "    <tr>\n",
              "      <th>mean</th>\n",
              "      <td>151.143914</td>\n",
              "      <td>2.492599</td>\n",
              "      <td>2.341612</td>\n",
              "      <td>1.756250</td>\n",
              "      <td>4395.844408</td>\n",
              "      <td>490.533224</td>\n",
              "      <td>58.204276</td>\n",
              "      <td>6033.194572</td>\n",
              "    </tr>\n",
              "    <tr>\n",
              "      <th>std</th>\n",
              "      <td>375.559485</td>\n",
              "      <td>1.129665</td>\n",
              "      <td>1.438860</td>\n",
              "      <td>1.611909</td>\n",
              "      <td>3576.668946</td>\n",
              "      <td>6212.549484</td>\n",
              "      <td>49.313441</td>\n",
              "      <td>8751.347700</td>\n",
              "    </tr>\n",
              "    <tr>\n",
              "      <th>min</th>\n",
              "      <td>10.000000</td>\n",
              "      <td>1.000000</td>\n",
              "      <td>1.000000</td>\n",
              "      <td>0.000000</td>\n",
              "      <td>420.000000</td>\n",
              "      <td>0.000000</td>\n",
              "      <td>3.000000</td>\n",
              "      <td>660.000000</td>\n",
              "    </tr>\n",
              "    <tr>\n",
              "      <th>25%</th>\n",
              "      <td>58.000000</td>\n",
              "      <td>2.000000</td>\n",
              "      <td>1.000000</td>\n",
              "      <td>1.000000</td>\n",
              "      <td>1800.000000</td>\n",
              "      <td>34.000000</td>\n",
              "      <td>23.000000</td>\n",
              "      <td>2451.500000</td>\n",
              "    </tr>\n",
              "    <tr>\n",
              "      <th>50%</th>\n",
              "      <td>100.000000</td>\n",
              "      <td>3.000000</td>\n",
              "      <td>2.000000</td>\n",
              "      <td>1.000000</td>\n",
              "      <td>3111.000000</td>\n",
              "      <td>145.000000</td>\n",
              "      <td>41.000000</td>\n",
              "      <td>4128.500000</td>\n",
              "    </tr>\n",
              "    <tr>\n",
              "      <th>75%</th>\n",
              "      <td>200.000000</td>\n",
              "      <td>3.000000</td>\n",
              "      <td>3.000000</td>\n",
              "      <td>2.000000</td>\n",
              "      <td>5952.500000</td>\n",
              "      <td>458.000000</td>\n",
              "      <td>77.000000</td>\n",
              "      <td>8074.000000</td>\n",
              "    </tr>\n",
              "    <tr>\n",
              "      <th>max</th>\n",
              "      <td>24606.000000</td>\n",
              "      <td>10.000000</td>\n",
              "      <td>10.000000</td>\n",
              "      <td>12.000000</td>\n",
              "      <td>45000.000000</td>\n",
              "      <td>366300.000000</td>\n",
              "      <td>677.000000</td>\n",
              "      <td>372700.000000</td>\n",
              "    </tr>\n",
              "  </tbody>\n",
              "</table>\n",
              "</div>"
            ],
            "text/plain": [
              "               area        rooms     bathroom  parking_spaces   rent_amount  \\\n",
              "count   6080.000000  6080.000000  6080.000000     6080.000000   6080.000000   \n",
              "mean     151.143914     2.492599     2.341612        1.756250   4395.844408   \n",
              "std      375.559485     1.129665     1.438860        1.611909   3576.668946   \n",
              "min       10.000000     1.000000     1.000000        0.000000    420.000000   \n",
              "25%       58.000000     2.000000     1.000000        1.000000   1800.000000   \n",
              "50%      100.000000     3.000000     2.000000        1.000000   3111.000000   \n",
              "75%      200.000000     3.000000     3.000000        2.000000   5952.500000   \n",
              "max    24606.000000    10.000000    10.000000       12.000000  45000.000000   \n",
              "\n",
              "        property_tax  fire_insurance          total  \n",
              "count    6080.000000     6080.000000    6080.000000  \n",
              "mean      490.533224       58.204276    6033.194572  \n",
              "std      6212.549484       49.313441    8751.347700  \n",
              "min         0.000000        3.000000     660.000000  \n",
              "25%        34.000000       23.000000    2451.500000  \n",
              "50%       145.000000       41.000000    4128.500000  \n",
              "75%       458.000000       77.000000    8074.000000  \n",
              "max    366300.000000      677.000000  372700.000000  "
            ]
          },
          "execution_count": 16,
          "metadata": {},
          "output_type": "execute_result"
        }
      ],
      "source": [
        "columns = []\n",
        "for coluna in aluguel_casa.columns:\n",
        "  if aluguel_casa[coluna].dtypes != 'object' and coluna != 'index':\n",
        "    columns.append(coluna)\n",
        "\n",
        "aluguel_casa[columns].describe()"
      ]
    },
    {
      "cell_type": "markdown",
      "metadata": {
        "id": "1SppKdQMdBA_"
      },
      "source": [
        "Avaliando-se os resultados da coluna 'area', é possível verificar que o desvio padrão = 375.559 é um valor muito maior do que a média desta coluna = 151.1439. Isto significa que os dados desta respectiva coluna apresentam valores muito diferentes um do outro, ou seja, temos apartamentos com áreas muito pequenas e apartamentos com áreas muito grandes."
      ]
    },
    {
      "cell_type": "markdown",
      "metadata": {
        "id": "j6awbBTeg5NX"
      },
      "source": [
        "### Filtros"
      ]
    },
    {
      "cell_type": "markdown",
      "metadata": {
        "id": "gI8HvRhJf1zW"
      },
      "source": [
        "Sabendo-se que a ideia é não gastar mais do que 4000 euros com despesas totais no apartamento, os dados são filtrados para gastos totais menores ou iguais a 4000"
      ]
    },
    {
      "cell_type": "code",
      "execution_count": 17,
      "metadata": {
        "colab": {
          "base_uri": "https://localhost:8080/",
          "height": 206
        },
        "id": "fMufIR4bcfqi",
        "outputId": "73156edb-6489-4d74-a4f0-01490eeb7a8f"
      },
      "outputs": [
        {
          "data": {
            "text/html": [
              "<div>\n",
              "<style scoped>\n",
              "    .dataframe tbody tr th:only-of-type {\n",
              "        vertical-align: middle;\n",
              "    }\n",
              "\n",
              "    .dataframe tbody tr th {\n",
              "        vertical-align: top;\n",
              "    }\n",
              "\n",
              "    .dataframe thead th {\n",
              "        text-align: right;\n",
              "    }\n",
              "</style>\n",
              "<table border=\"1\" class=\"dataframe\">\n",
              "  <thead>\n",
              "    <tr style=\"text-align: right;\">\n",
              "      <th></th>\n",
              "      <th>index</th>\n",
              "      <th>city</th>\n",
              "      <th>area</th>\n",
              "      <th>rooms</th>\n",
              "      <th>bathroom</th>\n",
              "      <th>parking_spaces</th>\n",
              "      <th>floor</th>\n",
              "      <th>animal</th>\n",
              "      <th>furniture</th>\n",
              "      <th>hoa</th>\n",
              "      <th>rent_amount</th>\n",
              "      <th>property_tax</th>\n",
              "      <th>fire_insurance</th>\n",
              "      <th>total</th>\n",
              "    </tr>\n",
              "  </thead>\n",
              "  <tbody>\n",
              "    <tr>\n",
              "      <th>1</th>\n",
              "      <td>1</td>\n",
              "      <td>Porto</td>\n",
              "      <td>64</td>\n",
              "      <td>2</td>\n",
              "      <td>1</td>\n",
              "      <td>1</td>\n",
              "      <td>10</td>\n",
              "      <td>accept</td>\n",
              "      <td>not furnished</td>\n",
              "      <td>540</td>\n",
              "      <td>820.0</td>\n",
              "      <td>122.0</td>\n",
              "      <td>11.0</td>\n",
              "      <td>1493.0</td>\n",
              "    </tr>\n",
              "    <tr>\n",
              "      <th>3</th>\n",
              "      <td>3</td>\n",
              "      <td>Barcelona</td>\n",
              "      <td>73</td>\n",
              "      <td>2</td>\n",
              "      <td>2</td>\n",
              "      <td>1</td>\n",
              "      <td>12</td>\n",
              "      <td>accept</td>\n",
              "      <td>not furnished</td>\n",
              "      <td>700</td>\n",
              "      <td>1250.0</td>\n",
              "      <td>150.0</td>\n",
              "      <td>16.0</td>\n",
              "      <td>2116.0</td>\n",
              "    </tr>\n",
              "    <tr>\n",
              "      <th>4</th>\n",
              "      <td>4</td>\n",
              "      <td>Barcelona</td>\n",
              "      <td>19</td>\n",
              "      <td>1</td>\n",
              "      <td>1</td>\n",
              "      <td>0</td>\n",
              "      <td>-</td>\n",
              "      <td>not accept</td>\n",
              "      <td>not furnished</td>\n",
              "      <td>0</td>\n",
              "      <td>1200.0</td>\n",
              "      <td>41.0</td>\n",
              "      <td>16.0</td>\n",
              "      <td>1257.0</td>\n",
              "    </tr>\n",
              "    <tr>\n",
              "      <th>5</th>\n",
              "      <td>5</td>\n",
              "      <td>Barcelona</td>\n",
              "      <td>13</td>\n",
              "      <td>1</td>\n",
              "      <td>1</td>\n",
              "      <td>0</td>\n",
              "      <td>2</td>\n",
              "      <td>accept</td>\n",
              "      <td>not furnished</td>\n",
              "      <td>0</td>\n",
              "      <td>2200.0</td>\n",
              "      <td>42.0</td>\n",
              "      <td>28.0</td>\n",
              "      <td>2270.0</td>\n",
              "    </tr>\n",
              "    <tr>\n",
              "      <th>7</th>\n",
              "      <td>7</td>\n",
              "      <td>Barcelona</td>\n",
              "      <td>55</td>\n",
              "      <td>2</td>\n",
              "      <td>2</td>\n",
              "      <td>1</td>\n",
              "      <td>2</td>\n",
              "      <td>accept</td>\n",
              "      <td>not furnished</td>\n",
              "      <td>600</td>\n",
              "      <td>1300.0</td>\n",
              "      <td>67.0</td>\n",
              "      <td>17.0</td>\n",
              "      <td>1984.0</td>\n",
              "    </tr>\n",
              "  </tbody>\n",
              "</table>\n",
              "</div>"
            ],
            "text/plain": [
              "   index       city  area  rooms  bathroom  parking_spaces floor      animal  \\\n",
              "1      1      Porto    64      2         1               1    10      accept   \n",
              "3      3  Barcelona    73      2         2               1    12      accept   \n",
              "4      4  Barcelona    19      1         1               0     -  not accept   \n",
              "5      5  Barcelona    13      1         1               0     2      accept   \n",
              "7      7  Barcelona    55      2         2               1     2      accept   \n",
              "\n",
              "       furniture  hoa  rent_amount  property_tax  fire_insurance   total  \n",
              "1  not furnished  540        820.0         122.0            11.0  1493.0  \n",
              "3  not furnished  700       1250.0         150.0            16.0  2116.0  \n",
              "4  not furnished    0       1200.0          41.0            16.0  1257.0  \n",
              "5  not furnished    0       2200.0          42.0            28.0  2270.0  \n",
              "7  not furnished  600       1300.0          67.0            17.0  1984.0  "
            ]
          },
          "execution_count": 17,
          "metadata": {},
          "output_type": "execute_result"
        }
      ],
      "source": [
        "aluguel_casa = aluguel_casa[(aluguel_casa['total']<=4000)]\n",
        "aluguel_casa.head()"
      ]
    },
    {
      "cell_type": "markdown",
      "metadata": {
        "id": "3P-SVycIgqvz"
      },
      "source": [
        "Observando-se as estatísticas descritivas do novo dataset filtrado,"
      ]
    },
    {
      "cell_type": "code",
      "execution_count": 18,
      "metadata": {
        "colab": {
          "base_uri": "https://localhost:8080/",
          "height": 300
        },
        "id": "WsGn6d92gOh1",
        "outputId": "52c54595-2db5-4396-f68b-9f05c1c25d0a"
      },
      "outputs": [
        {
          "data": {
            "text/html": [
              "<div>\n",
              "<style scoped>\n",
              "    .dataframe tbody tr th:only-of-type {\n",
              "        vertical-align: middle;\n",
              "    }\n",
              "\n",
              "    .dataframe tbody tr th {\n",
              "        vertical-align: top;\n",
              "    }\n",
              "\n",
              "    .dataframe thead th {\n",
              "        text-align: right;\n",
              "    }\n",
              "</style>\n",
              "<table border=\"1\" class=\"dataframe\">\n",
              "  <thead>\n",
              "    <tr style=\"text-align: right;\">\n",
              "      <th></th>\n",
              "      <th>index</th>\n",
              "      <th>area</th>\n",
              "      <th>rooms</th>\n",
              "      <th>bathroom</th>\n",
              "      <th>parking_spaces</th>\n",
              "      <th>rent_amount</th>\n",
              "      <th>property_tax</th>\n",
              "      <th>fire_insurance</th>\n",
              "      <th>total</th>\n",
              "    </tr>\n",
              "  </thead>\n",
              "  <tbody>\n",
              "    <tr>\n",
              "      <th>count</th>\n",
              "      <td>2910.000000</td>\n",
              "      <td>2910.000000</td>\n",
              "      <td>2910.000000</td>\n",
              "      <td>2910.000000</td>\n",
              "      <td>2910.000000</td>\n",
              "      <td>2910.000000</td>\n",
              "      <td>2910.000000</td>\n",
              "      <td>2910.000000</td>\n",
              "      <td>2910.000000</td>\n",
              "    </tr>\n",
              "    <tr>\n",
              "      <th>mean</th>\n",
              "      <td>3059.331615</td>\n",
              "      <td>78.085911</td>\n",
              "      <td>1.881100</td>\n",
              "      <td>1.433333</td>\n",
              "      <td>0.896907</td>\n",
              "      <td>1859.978694</td>\n",
              "      <td>80.113058</td>\n",
              "      <td>24.114089</td>\n",
              "      <td>2397.613746</td>\n",
              "    </tr>\n",
              "    <tr>\n",
              "      <th>std</th>\n",
              "      <td>1751.583422</td>\n",
              "      <td>240.046113</td>\n",
              "      <td>0.828103</td>\n",
              "      <td>0.691392</td>\n",
              "      <td>0.947772</td>\n",
              "      <td>722.193067</td>\n",
              "      <td>98.129845</td>\n",
              "      <td>10.851384</td>\n",
              "      <td>859.232581</td>\n",
              "    </tr>\n",
              "    <tr>\n",
              "      <th>min</th>\n",
              "      <td>1.000000</td>\n",
              "      <td>10.000000</td>\n",
              "      <td>1.000000</td>\n",
              "      <td>1.000000</td>\n",
              "      <td>0.000000</td>\n",
              "      <td>420.000000</td>\n",
              "      <td>0.000000</td>\n",
              "      <td>3.000000</td>\n",
              "      <td>660.000000</td>\n",
              "    </tr>\n",
              "    <tr>\n",
              "      <th>25%</th>\n",
              "      <td>1529.500000</td>\n",
              "      <td>45.000000</td>\n",
              "      <td>1.000000</td>\n",
              "      <td>1.000000</td>\n",
              "      <td>0.000000</td>\n",
              "      <td>1300.000000</td>\n",
              "      <td>0.000000</td>\n",
              "      <td>16.000000</td>\n",
              "      <td>1696.250000</td>\n",
              "    </tr>\n",
              "    <tr>\n",
              "      <th>50%</th>\n",
              "      <td>3063.500000</td>\n",
              "      <td>60.000000</td>\n",
              "      <td>2.000000</td>\n",
              "      <td>1.000000</td>\n",
              "      <td>1.000000</td>\n",
              "      <td>1800.000000</td>\n",
              "      <td>50.000000</td>\n",
              "      <td>23.000000</td>\n",
              "      <td>2391.000000</td>\n",
              "    </tr>\n",
              "    <tr>\n",
              "      <th>75%</th>\n",
              "      <td>4579.500000</td>\n",
              "      <td>86.750000</td>\n",
              "      <td>2.000000</td>\n",
              "      <td>2.000000</td>\n",
              "      <td>1.000000</td>\n",
              "      <td>2350.000000</td>\n",
              "      <td>117.000000</td>\n",
              "      <td>31.000000</td>\n",
              "      <td>3074.750000</td>\n",
              "    </tr>\n",
              "    <tr>\n",
              "      <th>max</th>\n",
              "      <td>6079.000000</td>\n",
              "      <td>12732.000000</td>\n",
              "      <td>6.000000</td>\n",
              "      <td>6.000000</td>\n",
              "      <td>8.000000</td>\n",
              "      <td>3915.000000</td>\n",
              "      <td>850.000000</td>\n",
              "      <td>59.000000</td>\n",
              "      <td>4000.000000</td>\n",
              "    </tr>\n",
              "  </tbody>\n",
              "</table>\n",
              "</div>"
            ],
            "text/plain": [
              "             index          area        rooms     bathroom  parking_spaces  \\\n",
              "count  2910.000000   2910.000000  2910.000000  2910.000000     2910.000000   \n",
              "mean   3059.331615     78.085911     1.881100     1.433333        0.896907   \n",
              "std    1751.583422    240.046113     0.828103     0.691392        0.947772   \n",
              "min       1.000000     10.000000     1.000000     1.000000        0.000000   \n",
              "25%    1529.500000     45.000000     1.000000     1.000000        0.000000   \n",
              "50%    3063.500000     60.000000     2.000000     1.000000        1.000000   \n",
              "75%    4579.500000     86.750000     2.000000     2.000000        1.000000   \n",
              "max    6079.000000  12732.000000     6.000000     6.000000        8.000000   \n",
              "\n",
              "       rent_amount  property_tax  fire_insurance        total  \n",
              "count  2910.000000   2910.000000     2910.000000  2910.000000  \n",
              "mean   1859.978694     80.113058       24.114089  2397.613746  \n",
              "std     722.193067     98.129845       10.851384   859.232581  \n",
              "min     420.000000      0.000000        3.000000   660.000000  \n",
              "25%    1300.000000      0.000000       16.000000  1696.250000  \n",
              "50%    1800.000000     50.000000       23.000000  2391.000000  \n",
              "75%    2350.000000    117.000000       31.000000  3074.750000  \n",
              "max    3915.000000    850.000000       59.000000  4000.000000  "
            ]
          },
          "execution_count": 18,
          "metadata": {},
          "output_type": "execute_result"
        }
      ],
      "source": [
        "aluguel_casa.describe()"
      ]
    },
    {
      "cell_type": "markdown",
      "metadata": {
        "id": "YmmXmvnlhK0s"
      },
      "source": [
        "Adicionando-se o filtro para animais de extimação,"
      ]
    },
    {
      "cell_type": "code",
      "execution_count": 19,
      "metadata": {
        "colab": {
          "base_uri": "https://localhost:8080/"
        },
        "id": "EH0aafvtgxNN",
        "outputId": "c6a3653f-add7-48b1-9f72-baa66a94f47d"
      },
      "outputs": [
        {
          "data": {
            "text/plain": [
              "array(['accept', 'not accept'], dtype=object)"
            ]
          },
          "execution_count": 19,
          "metadata": {},
          "output_type": "execute_result"
        }
      ],
      "source": [
        "aluguel_casa['animal'].unique()"
      ]
    },
    {
      "cell_type": "code",
      "execution_count": 20,
      "metadata": {
        "id": "IjRm1LdVhZUl"
      },
      "outputs": [],
      "source": [
        "aluguel_casa = aluguel_casa[(aluguel_casa['animal'] == 'accept')]"
      ]
    },
    {
      "cell_type": "code",
      "execution_count": 21,
      "metadata": {
        "colab": {
          "base_uri": "https://localhost:8080/",
          "height": 206
        },
        "id": "wUMkay7ehciW",
        "outputId": "d47b6416-5b26-42c9-cafb-511d955ef135"
      },
      "outputs": [
        {
          "data": {
            "text/html": [
              "<div>\n",
              "<style scoped>\n",
              "    .dataframe tbody tr th:only-of-type {\n",
              "        vertical-align: middle;\n",
              "    }\n",
              "\n",
              "    .dataframe tbody tr th {\n",
              "        vertical-align: top;\n",
              "    }\n",
              "\n",
              "    .dataframe thead th {\n",
              "        text-align: right;\n",
              "    }\n",
              "</style>\n",
              "<table border=\"1\" class=\"dataframe\">\n",
              "  <thead>\n",
              "    <tr style=\"text-align: right;\">\n",
              "      <th></th>\n",
              "      <th>index</th>\n",
              "      <th>city</th>\n",
              "      <th>area</th>\n",
              "      <th>rooms</th>\n",
              "      <th>bathroom</th>\n",
              "      <th>parking_spaces</th>\n",
              "      <th>floor</th>\n",
              "      <th>animal</th>\n",
              "      <th>furniture</th>\n",
              "      <th>hoa</th>\n",
              "      <th>rent_amount</th>\n",
              "      <th>property_tax</th>\n",
              "      <th>fire_insurance</th>\n",
              "      <th>total</th>\n",
              "    </tr>\n",
              "  </thead>\n",
              "  <tbody>\n",
              "    <tr>\n",
              "      <th>1</th>\n",
              "      <td>1</td>\n",
              "      <td>Porto</td>\n",
              "      <td>64</td>\n",
              "      <td>2</td>\n",
              "      <td>1</td>\n",
              "      <td>1</td>\n",
              "      <td>10</td>\n",
              "      <td>accept</td>\n",
              "      <td>not furnished</td>\n",
              "      <td>540</td>\n",
              "      <td>820.0</td>\n",
              "      <td>122.0</td>\n",
              "      <td>11.0</td>\n",
              "      <td>1493.0</td>\n",
              "    </tr>\n",
              "    <tr>\n",
              "      <th>3</th>\n",
              "      <td>3</td>\n",
              "      <td>Barcelona</td>\n",
              "      <td>73</td>\n",
              "      <td>2</td>\n",
              "      <td>2</td>\n",
              "      <td>1</td>\n",
              "      <td>12</td>\n",
              "      <td>accept</td>\n",
              "      <td>not furnished</td>\n",
              "      <td>700</td>\n",
              "      <td>1250.0</td>\n",
              "      <td>150.0</td>\n",
              "      <td>16.0</td>\n",
              "      <td>2116.0</td>\n",
              "    </tr>\n",
              "    <tr>\n",
              "      <th>5</th>\n",
              "      <td>5</td>\n",
              "      <td>Barcelona</td>\n",
              "      <td>13</td>\n",
              "      <td>1</td>\n",
              "      <td>1</td>\n",
              "      <td>0</td>\n",
              "      <td>2</td>\n",
              "      <td>accept</td>\n",
              "      <td>not furnished</td>\n",
              "      <td>0</td>\n",
              "      <td>2200.0</td>\n",
              "      <td>42.0</td>\n",
              "      <td>28.0</td>\n",
              "      <td>2270.0</td>\n",
              "    </tr>\n",
              "    <tr>\n",
              "      <th>7</th>\n",
              "      <td>7</td>\n",
              "      <td>Barcelona</td>\n",
              "      <td>55</td>\n",
              "      <td>2</td>\n",
              "      <td>2</td>\n",
              "      <td>1</td>\n",
              "      <td>2</td>\n",
              "      <td>accept</td>\n",
              "      <td>not furnished</td>\n",
              "      <td>600</td>\n",
              "      <td>1300.0</td>\n",
              "      <td>67.0</td>\n",
              "      <td>17.0</td>\n",
              "      <td>1984.0</td>\n",
              "    </tr>\n",
              "    <tr>\n",
              "      <th>8</th>\n",
              "      <td>8</td>\n",
              "      <td>Barcelona</td>\n",
              "      <td>82</td>\n",
              "      <td>3</td>\n",
              "      <td>1</td>\n",
              "      <td>1</td>\n",
              "      <td>3</td>\n",
              "      <td>accept</td>\n",
              "      <td>furnished</td>\n",
              "      <td>828</td>\n",
              "      <td>2000.0</td>\n",
              "      <td>109.0</td>\n",
              "      <td>26.0</td>\n",
              "      <td>2963.0</td>\n",
              "    </tr>\n",
              "  </tbody>\n",
              "</table>\n",
              "</div>"
            ],
            "text/plain": [
              "   index       city  area  rooms  bathroom  parking_spaces floor  animal  \\\n",
              "1      1      Porto    64      2         1               1    10  accept   \n",
              "3      3  Barcelona    73      2         2               1    12  accept   \n",
              "5      5  Barcelona    13      1         1               0     2  accept   \n",
              "7      7  Barcelona    55      2         2               1     2  accept   \n",
              "8      8  Barcelona    82      3         1               1     3  accept   \n",
              "\n",
              "       furniture  hoa  rent_amount  property_tax  fire_insurance   total  \n",
              "1  not furnished  540        820.0         122.0            11.0  1493.0  \n",
              "3  not furnished  700       1250.0         150.0            16.0  2116.0  \n",
              "5  not furnished    0       2200.0          42.0            28.0  2270.0  \n",
              "7  not furnished  600       1300.0          67.0            17.0  1984.0  \n",
              "8      furnished  828       2000.0         109.0            26.0  2963.0  "
            ]
          },
          "execution_count": 21,
          "metadata": {},
          "output_type": "execute_result"
        }
      ],
      "source": [
        "aluguel_casa.head()"
      ]
    },
    {
      "cell_type": "markdown",
      "metadata": {
        "id": "ZIWb8R-Zixru"
      },
      "source": [
        "Filtrando-se o dataset para aparecer somente apartamentos com 2 ou 3 quartos"
      ]
    },
    {
      "cell_type": "code",
      "execution_count": 22,
      "metadata": {
        "id": "agGd-zZViiwl"
      },
      "outputs": [],
      "source": [
        "aluguel_casa = aluguel_casa[(aluguel_casa['rooms'] == 2) | (aluguel_casa['rooms'] == 3)]"
      ]
    },
    {
      "cell_type": "code",
      "execution_count": 23,
      "metadata": {
        "colab": {
          "base_uri": "https://localhost:8080/",
          "height": 206
        },
        "id": "sJ_bivK5jenW",
        "outputId": "c56dfad4-c9e6-4850-c9e6-06bfda1bb9d0"
      },
      "outputs": [
        {
          "data": {
            "text/html": [
              "<div>\n",
              "<style scoped>\n",
              "    .dataframe tbody tr th:only-of-type {\n",
              "        vertical-align: middle;\n",
              "    }\n",
              "\n",
              "    .dataframe tbody tr th {\n",
              "        vertical-align: top;\n",
              "    }\n",
              "\n",
              "    .dataframe thead th {\n",
              "        text-align: right;\n",
              "    }\n",
              "</style>\n",
              "<table border=\"1\" class=\"dataframe\">\n",
              "  <thead>\n",
              "    <tr style=\"text-align: right;\">\n",
              "      <th></th>\n",
              "      <th>index</th>\n",
              "      <th>city</th>\n",
              "      <th>area</th>\n",
              "      <th>rooms</th>\n",
              "      <th>bathroom</th>\n",
              "      <th>parking_spaces</th>\n",
              "      <th>floor</th>\n",
              "      <th>animal</th>\n",
              "      <th>furniture</th>\n",
              "      <th>hoa</th>\n",
              "      <th>rent_amount</th>\n",
              "      <th>property_tax</th>\n",
              "      <th>fire_insurance</th>\n",
              "      <th>total</th>\n",
              "    </tr>\n",
              "  </thead>\n",
              "  <tbody>\n",
              "    <tr>\n",
              "      <th>1</th>\n",
              "      <td>1</td>\n",
              "      <td>Porto</td>\n",
              "      <td>64</td>\n",
              "      <td>2</td>\n",
              "      <td>1</td>\n",
              "      <td>1</td>\n",
              "      <td>10</td>\n",
              "      <td>accept</td>\n",
              "      <td>not furnished</td>\n",
              "      <td>540</td>\n",
              "      <td>820.0</td>\n",
              "      <td>122.0</td>\n",
              "      <td>11.0</td>\n",
              "      <td>1493.0</td>\n",
              "    </tr>\n",
              "    <tr>\n",
              "      <th>3</th>\n",
              "      <td>3</td>\n",
              "      <td>Barcelona</td>\n",
              "      <td>73</td>\n",
              "      <td>2</td>\n",
              "      <td>2</td>\n",
              "      <td>1</td>\n",
              "      <td>12</td>\n",
              "      <td>accept</td>\n",
              "      <td>not furnished</td>\n",
              "      <td>700</td>\n",
              "      <td>1250.0</td>\n",
              "      <td>150.0</td>\n",
              "      <td>16.0</td>\n",
              "      <td>2116.0</td>\n",
              "    </tr>\n",
              "    <tr>\n",
              "      <th>7</th>\n",
              "      <td>7</td>\n",
              "      <td>Barcelona</td>\n",
              "      <td>55</td>\n",
              "      <td>2</td>\n",
              "      <td>2</td>\n",
              "      <td>1</td>\n",
              "      <td>2</td>\n",
              "      <td>accept</td>\n",
              "      <td>not furnished</td>\n",
              "      <td>600</td>\n",
              "      <td>1300.0</td>\n",
              "      <td>67.0</td>\n",
              "      <td>17.0</td>\n",
              "      <td>1984.0</td>\n",
              "    </tr>\n",
              "    <tr>\n",
              "      <th>8</th>\n",
              "      <td>8</td>\n",
              "      <td>Barcelona</td>\n",
              "      <td>82</td>\n",
              "      <td>3</td>\n",
              "      <td>1</td>\n",
              "      <td>1</td>\n",
              "      <td>3</td>\n",
              "      <td>accept</td>\n",
              "      <td>furnished</td>\n",
              "      <td>828</td>\n",
              "      <td>2000.0</td>\n",
              "      <td>109.0</td>\n",
              "      <td>26.0</td>\n",
              "      <td>2963.0</td>\n",
              "    </tr>\n",
              "    <tr>\n",
              "      <th>15</th>\n",
              "      <td>15</td>\n",
              "      <td>Porto</td>\n",
              "      <td>56</td>\n",
              "      <td>2</td>\n",
              "      <td>1</td>\n",
              "      <td>1</td>\n",
              "      <td>1</td>\n",
              "      <td>accept</td>\n",
              "      <td>not furnished</td>\n",
              "      <td>345</td>\n",
              "      <td>950.0</td>\n",
              "      <td>11.0</td>\n",
              "      <td>13.0</td>\n",
              "      <td>1319.0</td>\n",
              "    </tr>\n",
              "  </tbody>\n",
              "</table>\n",
              "</div>"
            ],
            "text/plain": [
              "    index       city  area  rooms  bathroom  parking_spaces floor  animal  \\\n",
              "1       1      Porto    64      2         1               1    10  accept   \n",
              "3       3  Barcelona    73      2         2               1    12  accept   \n",
              "7       7  Barcelona    55      2         2               1     2  accept   \n",
              "8       8  Barcelona    82      3         1               1     3  accept   \n",
              "15     15      Porto    56      2         1               1     1  accept   \n",
              "\n",
              "        furniture  hoa  rent_amount  property_tax  fire_insurance   total  \n",
              "1   not furnished  540        820.0         122.0            11.0  1493.0  \n",
              "3   not furnished  700       1250.0         150.0            16.0  2116.0  \n",
              "7   not furnished  600       1300.0          67.0            17.0  1984.0  \n",
              "8       furnished  828       2000.0         109.0            26.0  2963.0  \n",
              "15  not furnished  345        950.0          11.0            13.0  1319.0  "
            ]
          },
          "execution_count": 23,
          "metadata": {},
          "output_type": "execute_result"
        }
      ],
      "source": [
        "aluguel_casa.head()"
      ]
    },
    {
      "cell_type": "code",
      "execution_count": 24,
      "metadata": {
        "colab": {
          "base_uri": "https://localhost:8080/"
        },
        "id": "LavCuJ2xjg_M",
        "outputId": "ba8abe23-3067-4c42-a174-1ed26b8f9036"
      },
      "outputs": [
        {
          "data": {
            "text/plain": [
              "array([2, 3], dtype=int64)"
            ]
          },
          "execution_count": 24,
          "metadata": {},
          "output_type": "execute_result"
        }
      ],
      "source": [
        "aluguel_casa['rooms'].unique()"
      ]
    },
    {
      "cell_type": "code",
      "execution_count": 25,
      "metadata": {
        "colab": {
          "base_uri": "https://localhost:8080/"
        },
        "id": "DdYeyusGjpK3",
        "outputId": "93fb6753-bc59-489b-d004-aa4f92abf5cf"
      },
      "outputs": [
        {
          "data": {
            "text/plain": [
              "array(['accept'], dtype=object)"
            ]
          },
          "execution_count": 25,
          "metadata": {},
          "output_type": "execute_result"
        }
      ],
      "source": [
        "aluguel_casa['animal'].unique()"
      ]
    },
    {
      "cell_type": "markdown",
      "metadata": {
        "id": "_A84k7kLlWw1"
      },
      "source": [
        "Analisando-se o describe novamente,"
      ]
    },
    {
      "cell_type": "code",
      "execution_count": 26,
      "metadata": {
        "colab": {
          "base_uri": "https://localhost:8080/",
          "height": 300
        },
        "id": "Hfh5Qq70lZ_e",
        "outputId": "0d5e0b7e-3ce5-448a-cc69-fd7084a42b28"
      },
      "outputs": [
        {
          "data": {
            "text/html": [
              "<div>\n",
              "<style scoped>\n",
              "    .dataframe tbody tr th:only-of-type {\n",
              "        vertical-align: middle;\n",
              "    }\n",
              "\n",
              "    .dataframe tbody tr th {\n",
              "        vertical-align: top;\n",
              "    }\n",
              "\n",
              "    .dataframe thead th {\n",
              "        text-align: right;\n",
              "    }\n",
              "</style>\n",
              "<table border=\"1\" class=\"dataframe\">\n",
              "  <thead>\n",
              "    <tr style=\"text-align: right;\">\n",
              "      <th></th>\n",
              "      <th>index</th>\n",
              "      <th>area</th>\n",
              "      <th>rooms</th>\n",
              "      <th>bathroom</th>\n",
              "      <th>parking_spaces</th>\n",
              "      <th>rent_amount</th>\n",
              "      <th>property_tax</th>\n",
              "      <th>fire_insurance</th>\n",
              "      <th>total</th>\n",
              "    </tr>\n",
              "  </thead>\n",
              "  <tbody>\n",
              "    <tr>\n",
              "      <th>count</th>\n",
              "      <td>1407.000000</td>\n",
              "      <td>1407.000000</td>\n",
              "      <td>1407.000000</td>\n",
              "      <td>1407.000000</td>\n",
              "      <td>1407.000000</td>\n",
              "      <td>1407.000000</td>\n",
              "      <td>1407.000000</td>\n",
              "      <td>1407.000000</td>\n",
              "      <td>1407.000000</td>\n",
              "    </tr>\n",
              "    <tr>\n",
              "      <th>mean</th>\n",
              "      <td>3003.132907</td>\n",
              "      <td>100.432836</td>\n",
              "      <td>2.379531</td>\n",
              "      <td>1.653873</td>\n",
              "      <td>1.212509</td>\n",
              "      <td>1964.006397</td>\n",
              "      <td>95.678749</td>\n",
              "      <td>25.899787</td>\n",
              "      <td>2556.358209</td>\n",
              "    </tr>\n",
              "    <tr>\n",
              "      <th>std</th>\n",
              "      <td>1739.608911</td>\n",
              "      <td>340.999109</td>\n",
              "      <td>0.485443</td>\n",
              "      <td>0.745034</td>\n",
              "      <td>0.973862</td>\n",
              "      <td>692.152422</td>\n",
              "      <td>107.359160</td>\n",
              "      <td>11.078694</td>\n",
              "      <td>783.028975</td>\n",
              "    </tr>\n",
              "    <tr>\n",
              "      <th>min</th>\n",
              "      <td>1.000000</td>\n",
              "      <td>30.000000</td>\n",
              "      <td>2.000000</td>\n",
              "      <td>1.000000</td>\n",
              "      <td>0.000000</td>\n",
              "      <td>450.000000</td>\n",
              "      <td>0.000000</td>\n",
              "      <td>5.000000</td>\n",
              "      <td>843.000000</td>\n",
              "    </tr>\n",
              "    <tr>\n",
              "      <th>25%</th>\n",
              "      <td>1453.000000</td>\n",
              "      <td>60.000000</td>\n",
              "      <td>2.000000</td>\n",
              "      <td>1.000000</td>\n",
              "      <td>1.000000</td>\n",
              "      <td>1445.500000</td>\n",
              "      <td>1.500000</td>\n",
              "      <td>17.000000</td>\n",
              "      <td>1962.500000</td>\n",
              "    </tr>\n",
              "    <tr>\n",
              "      <th>50%</th>\n",
              "      <td>3001.000000</td>\n",
              "      <td>76.000000</td>\n",
              "      <td>2.000000</td>\n",
              "      <td>2.000000</td>\n",
              "      <td>1.000000</td>\n",
              "      <td>1900.000000</td>\n",
              "      <td>67.000000</td>\n",
              "      <td>25.000000</td>\n",
              "      <td>2507.000000</td>\n",
              "    </tr>\n",
              "    <tr>\n",
              "      <th>75%</th>\n",
              "      <td>4518.500000</td>\n",
              "      <td>100.000000</td>\n",
              "      <td>3.000000</td>\n",
              "      <td>2.000000</td>\n",
              "      <td>2.000000</td>\n",
              "      <td>2450.000000</td>\n",
              "      <td>144.000000</td>\n",
              "      <td>32.000000</td>\n",
              "      <td>3181.500000</td>\n",
              "    </tr>\n",
              "    <tr>\n",
              "      <th>max</th>\n",
              "      <td>6079.000000</td>\n",
              "      <td>12732.000000</td>\n",
              "      <td>3.000000</td>\n",
              "      <td>6.000000</td>\n",
              "      <td>8.000000</td>\n",
              "      <td>3915.000000</td>\n",
              "      <td>791.000000</td>\n",
              "      <td>59.000000</td>\n",
              "      <td>3998.000000</td>\n",
              "    </tr>\n",
              "  </tbody>\n",
              "</table>\n",
              "</div>"
            ],
            "text/plain": [
              "             index          area        rooms     bathroom  parking_spaces  \\\n",
              "count  1407.000000   1407.000000  1407.000000  1407.000000     1407.000000   \n",
              "mean   3003.132907    100.432836     2.379531     1.653873        1.212509   \n",
              "std    1739.608911    340.999109     0.485443     0.745034        0.973862   \n",
              "min       1.000000     30.000000     2.000000     1.000000        0.000000   \n",
              "25%    1453.000000     60.000000     2.000000     1.000000        1.000000   \n",
              "50%    3001.000000     76.000000     2.000000     2.000000        1.000000   \n",
              "75%    4518.500000    100.000000     3.000000     2.000000        2.000000   \n",
              "max    6079.000000  12732.000000     3.000000     6.000000        8.000000   \n",
              "\n",
              "       rent_amount  property_tax  fire_insurance        total  \n",
              "count  1407.000000   1407.000000     1407.000000  1407.000000  \n",
              "mean   1964.006397     95.678749       25.899787  2556.358209  \n",
              "std     692.152422    107.359160       11.078694   783.028975  \n",
              "min     450.000000      0.000000        5.000000   843.000000  \n",
              "25%    1445.500000      1.500000       17.000000  1962.500000  \n",
              "50%    1900.000000     67.000000       25.000000  2507.000000  \n",
              "75%    2450.000000    144.000000       32.000000  3181.500000  \n",
              "max    3915.000000    791.000000       59.000000  3998.000000  "
            ]
          },
          "execution_count": 26,
          "metadata": {},
          "output_type": "execute_result"
        }
      ],
      "source": [
        "aluguel_casa.describe()"
      ]
    },
    {
      "cell_type": "markdown",
      "metadata": {
        "id": "dVw2sDSz8hvN"
      },
      "source": [
        "### Agrupamentos"
      ]
    },
    {
      "cell_type": "markdown",
      "metadata": {
        "id": "gmvZHOsxgYJ5"
      },
      "source": [
        "Atribuindo-se agora a uma outra variável 'agg_city_price' a média dos valores totais, agrupadas pela cidade em nosso dataset 'aluguel_casa',"
      ]
    },
    {
      "cell_type": "code",
      "execution_count": 27,
      "metadata": {
        "id": "B0oaP2wT7613"
      },
      "outputs": [],
      "source": [
        "agg_city_price = aluguel_casa.groupby(by = 'city')['total'].agg('mean')"
      ]
    },
    {
      "cell_type": "code",
      "execution_count": 28,
      "metadata": {
        "colab": {
          "base_uri": "https://localhost:8080/"
        },
        "id": "vWCJ2ODI8Vd0",
        "outputId": "ee47263a-8dc9-43fe-aa0e-8f483cd2736a"
      },
      "outputs": [
        {
          "data": {
            "text/plain": [
              "city\n",
              "Barcelona    2683.503759\n",
              "Porto        2161.947522\n",
              "Name: total, dtype: float64"
            ]
          },
          "execution_count": 28,
          "metadata": {},
          "output_type": "execute_result"
        }
      ],
      "source": [
        "agg_city_price"
      ]
    },
    {
      "cell_type": "code",
      "execution_count": 29,
      "metadata": {
        "colab": {
          "base_uri": "https://localhost:8080/",
          "height": 112
        },
        "id": "ghFmydtc8YiW",
        "outputId": "1a01c1b2-cdfe-4aff-861c-ff34ff9466ab"
      },
      "outputs": [
        {
          "data": {
            "text/html": [
              "<div>\n",
              "<style scoped>\n",
              "    .dataframe tbody tr th:only-of-type {\n",
              "        vertical-align: middle;\n",
              "    }\n",
              "\n",
              "    .dataframe tbody tr th {\n",
              "        vertical-align: top;\n",
              "    }\n",
              "\n",
              "    .dataframe thead th {\n",
              "        text-align: right;\n",
              "    }\n",
              "</style>\n",
              "<table border=\"1\" class=\"dataframe\">\n",
              "  <thead>\n",
              "    <tr style=\"text-align: right;\">\n",
              "      <th></th>\n",
              "      <th>city</th>\n",
              "      <th>total</th>\n",
              "    </tr>\n",
              "  </thead>\n",
              "  <tbody>\n",
              "    <tr>\n",
              "      <th>0</th>\n",
              "      <td>Barcelona</td>\n",
              "      <td>2683.503759</td>\n",
              "    </tr>\n",
              "    <tr>\n",
              "      <th>1</th>\n",
              "      <td>Porto</td>\n",
              "      <td>2161.947522</td>\n",
              "    </tr>\n",
              "  </tbody>\n",
              "</table>\n",
              "</div>"
            ],
            "text/plain": [
              "        city        total\n",
              "0  Barcelona  2683.503759\n",
              "1      Porto  2161.947522"
            ]
          },
          "execution_count": 29,
          "metadata": {},
          "output_type": "execute_result"
        }
      ],
      "source": [
        "# colocando o método reset_index() para melhorar a visualização\n",
        "\n",
        "agg_city_price.reset_index()"
      ]
    },
    {
      "cell_type": "markdown",
      "metadata": {
        "id": "kXYyvsFd9VnU"
      },
      "source": [
        "Agrupando-se agora por quantidades de banheiros e quartos,"
      ]
    },
    {
      "cell_type": "code",
      "execution_count": 30,
      "metadata": {
        "colab": {
          "base_uri": "https://localhost:8080/",
          "height": 363
        },
        "id": "jRXQ-g0D9S7A",
        "outputId": "40bb9ec5-41f7-4fe6-e8c4-8d5cf2fbff61"
      },
      "outputs": [
        {
          "data": {
            "text/html": [
              "<div>\n",
              "<style scoped>\n",
              "    .dataframe tbody tr th:only-of-type {\n",
              "        vertical-align: middle;\n",
              "    }\n",
              "\n",
              "    .dataframe tbody tr th {\n",
              "        vertical-align: top;\n",
              "    }\n",
              "\n",
              "    .dataframe thead th {\n",
              "        text-align: right;\n",
              "    }\n",
              "</style>\n",
              "<table border=\"1\" class=\"dataframe\">\n",
              "  <thead>\n",
              "    <tr style=\"text-align: right;\">\n",
              "      <th></th>\n",
              "      <th>bathroom</th>\n",
              "      <th>rooms</th>\n",
              "      <th>total</th>\n",
              "    </tr>\n",
              "  </thead>\n",
              "  <tbody>\n",
              "    <tr>\n",
              "      <th>0</th>\n",
              "      <td>1</td>\n",
              "      <td>2</td>\n",
              "      <td>2091.175221</td>\n",
              "    </tr>\n",
              "    <tr>\n",
              "      <th>1</th>\n",
              "      <td>1</td>\n",
              "      <td>3</td>\n",
              "      <td>2542.509091</td>\n",
              "    </tr>\n",
              "    <tr>\n",
              "      <th>2</th>\n",
              "      <td>2</td>\n",
              "      <td>2</td>\n",
              "      <td>2734.612903</td>\n",
              "    </tr>\n",
              "    <tr>\n",
              "      <th>3</th>\n",
              "      <td>2</td>\n",
              "      <td>3</td>\n",
              "      <td>2928.720395</td>\n",
              "    </tr>\n",
              "    <tr>\n",
              "      <th>4</th>\n",
              "      <td>3</td>\n",
              "      <td>2</td>\n",
              "      <td>3057.440000</td>\n",
              "    </tr>\n",
              "    <tr>\n",
              "      <th>5</th>\n",
              "      <td>3</td>\n",
              "      <td>3</td>\n",
              "      <td>3217.704545</td>\n",
              "    </tr>\n",
              "    <tr>\n",
              "      <th>6</th>\n",
              "      <td>4</td>\n",
              "      <td>2</td>\n",
              "      <td>3136.000000</td>\n",
              "    </tr>\n",
              "    <tr>\n",
              "      <th>7</th>\n",
              "      <td>4</td>\n",
              "      <td>3</td>\n",
              "      <td>3461.133333</td>\n",
              "    </tr>\n",
              "    <tr>\n",
              "      <th>8</th>\n",
              "      <td>5</td>\n",
              "      <td>3</td>\n",
              "      <td>3245.000000</td>\n",
              "    </tr>\n",
              "    <tr>\n",
              "      <th>9</th>\n",
              "      <td>6</td>\n",
              "      <td>3</td>\n",
              "      <td>3101.000000</td>\n",
              "    </tr>\n",
              "  </tbody>\n",
              "</table>\n",
              "</div>"
            ],
            "text/plain": [
              "   bathroom  rooms        total\n",
              "0         1      2  2091.175221\n",
              "1         1      3  2542.509091\n",
              "2         2      2  2734.612903\n",
              "3         2      3  2928.720395\n",
              "4         3      2  3057.440000\n",
              "5         3      3  3217.704545\n",
              "6         4      2  3136.000000\n",
              "7         4      3  3461.133333\n",
              "8         5      3  3245.000000\n",
              "9         6      3  3101.000000"
            ]
          },
          "execution_count": 30,
          "metadata": {},
          "output_type": "execute_result"
        }
      ],
      "source": [
        "agg_bath_rooms_price = aluguel_casa.groupby(by = ['bathroom', 'rooms'])['total'].agg('mean').reset_index()\n",
        "agg_bath_rooms_price"
      ]
    },
    {
      "cell_type": "markdown",
      "metadata": {
        "id": "dzG9XDKz-UUM"
      },
      "source": [
        "## Visualização dos Dados (Seaborn)"
      ]
    },
    {
      "cell_type": "markdown",
      "metadata": {
        "id": "34AqVpmMa2LO"
      },
      "source": [
        "Para visualizar os dados, utilizou-se da biblioteca Seaborn."
      ]
    },
    {
      "cell_type": "code",
      "execution_count": 31,
      "metadata": {
        "id": "rgelgtqv92va"
      },
      "outputs": [],
      "source": [
        "import seaborn as sns"
      ]
    },
    {
      "cell_type": "markdown",
      "metadata": {
        "id": "DjYGm-XN_QBr"
      },
      "source": [
        "Plotando um gráfico de barras do preço pela quantidade de quartos,"
      ]
    },
    {
      "cell_type": "code",
      "execution_count": 32,
      "metadata": {
        "colab": {
          "base_uri": "https://localhost:8080/",
          "height": 449
        },
        "id": "yAKVX0Yj-c6n",
        "outputId": "2a5d3a17-6681-45bd-e7a7-87c620a33588"
      },
      "outputs": [
        {
          "data": {
            "image/png": "[encoded data removed]",
            "text/plain": [
              "<Figure size 640x480 with 1 Axes>"
            ]
          },
          "metadata": {},
          "output_type": "display_data"
        }
      ],
      "source": [
        "sns.barplot(agg_bath_rooms_price, x = 'rooms', y = 'total');"
      ]
    },
    {
      "cell_type": "code",
      "execution_count": 33,
      "metadata": {
        "colab": {
          "base_uri": "https://localhost:8080/",
          "height": 449
        },
        "id": "haj5R3S2-9im",
        "outputId": "45b5cb03-3e2a-43cb-d87e-ab02679c7f87"
      },
      "outputs": [
        {
          "data": {
            "image/png": "[encoded data removed]",
            "text/plain": [
              "<Figure size 640x480 with 1 Axes>"
            ]
          },
          "metadata": {},
          "output_type": "display_data"
        }
      ],
      "source": [
        "# mudando o nome dos eixos\n",
        "graph = sns.barplot(agg_bath_rooms_price, x = 'rooms', y = 'total');\n",
        "graph.set(xlabel = 'qtd quartos', ylabel = 'média de preço');"
      ]
    },
    {
      "cell_type": "markdown",
      "metadata": {
        "id": "bRTIdPuh_XXk"
      },
      "source": [
        "Plotando-se um gráfico de barras do preço pela quantidade de banheiros,"
      ]
    },
    {
      "cell_type": "code",
      "execution_count": 34,
      "metadata": {
        "colab": {
          "base_uri": "https://localhost:8080/",
          "height": 449
        },
        "id": "MrYEshU8_J8X",
        "outputId": "3afe1ec4-0851-4d90-91d0-b1813e290b07"
      },
      "outputs": [
        {
          "data": {
            "image/png": "[encoded data removed]",
            "text/plain": [
              "<Figure size 640x480 with 1 Axes>"
            ]
          },
          "metadata": {},
          "output_type": "display_data"
        }
      ],
      "source": [
        "graph = sns.barplot(agg_bath_rooms_price, x = 'bathroom', y = 'total');\n",
        "graph.set(xlabel = 'qtd banheiros', ylabel = 'média de preço');"
      ]
    },
    {
      "cell_type": "markdown",
      "metadata": {
        "id": "3QMsd_fgAnd3"
      },
      "source": [
        "Plotando-se um histograma da coluna 'area' do nosso dataset 'aluguel_casa',"
      ]
    },
    {
      "cell_type": "code",
      "execution_count": 35,
      "metadata": {
        "id": "0QOI8-UZ_rqp"
      },
      "outputs": [],
      "source": [
        "agg_area = aluguel_casa['area']"
      ]
    },
    {
      "cell_type": "code",
      "execution_count": 36,
      "metadata": {
        "colab": {
          "base_uri": "https://localhost:8080/",
          "height": 449
        },
        "id": "Vx26RX6LAY1y",
        "outputId": "14fdb802-5bac-471f-81e4-f26ff8c011a6"
      },
      "outputs": [
        {
          "data": {
            "image/png": "[encoded data removed]",
            "text/plain": [
              "<Figure size 640x480 with 1 Axes>"
            ]
          },
          "metadata": {},
          "output_type": "display_data"
        }
      ],
      "source": [
        "sns.histplot(data = agg_area);"
      ]
    },
    {
      "cell_type": "markdown",
      "metadata": {
        "id": "bTauv6qfBWJ0"
      },
      "source": [
        "Como é possível perceber a partir do gráfico acima, a maior parte dos imóveis tem áreas bem menores que 2000 e tem-se pouquíssimos casos onde a área supera este valor. Por isso o gráfico fica parecendo como se tivesse apenas um aglomerado pequeno de linhas. Isto também pode ser observado com a análise do desvio padrão da área em comparação a média, como é muito maior, isto indica essa dispersão muito grande dos dados."
      ]
    },
    {
      "cell_type": "markdown",
      "metadata": {
        "id": "VlDMovO6B7vx"
      },
      "source": [
        "Para melhor analisar os dados da coluna 'area', filtrou-se seus dados para valores menores ou iguais a 100,"
      ]
    },
    {
      "cell_type": "code",
      "execution_count": 37,
      "metadata": {
        "id": "gdPSZXe3A36g"
      },
      "outputs": [],
      "source": [
        "agg_area = agg_area[(agg_area<=100)]"
      ]
    },
    {
      "cell_type": "code",
      "execution_count": 38,
      "metadata": {
        "colab": {
          "base_uri": "https://localhost:8080/"
        },
        "id": "4CkraEQ-CMW-",
        "outputId": "49783114-0259-47b4-b80f-6eae915b0e4b"
      },
      "outputs": [
        {
          "data": {
            "text/plain": [
              "1        64\n",
              "3        73\n",
              "7        55\n",
              "8        82\n",
              "15       56\n",
              "       ... \n",
              "6056    100\n",
              "6058     72\n",
              "6059     59\n",
              "6075     50\n",
              "6079     60\n",
              "Name: area, Length: 1064, dtype: int64"
            ]
          },
          "execution_count": 38,
          "metadata": {},
          "output_type": "execute_result"
        }
      ],
      "source": [
        "agg_area"
      ]
    },
    {
      "cell_type": "code",
      "execution_count": 39,
      "metadata": {
        "colab": {
          "base_uri": "https://localhost:8080/"
        },
        "id": "e_Y_EmJFCQmG",
        "outputId": "6533b4c9-9a75-4f3a-d07a-d561b2d57033"
      },
      "outputs": [
        {
          "data": {
            "text/plain": [
              "count    1064.000000\n",
              "mean       69.641917\n",
              "std        15.962461\n",
              "min        30.000000\n",
              "25%        57.000000\n",
              "50%        69.000000\n",
              "75%        80.000000\n",
              "max       100.000000\n",
              "Name: area, dtype: float64"
            ]
          },
          "execution_count": 39,
          "metadata": {},
          "output_type": "execute_result"
        }
      ],
      "source": [
        "agg_area.describe()"
      ]
    },
    {
      "cell_type": "markdown",
      "metadata": {
        "id": "8tOSBmHGDBhC"
      },
      "source": [
        "Plotando-se um novo histrograma,"
      ]
    },
    {
      "cell_type": "code",
      "execution_count": 40,
      "metadata": {
        "colab": {
          "base_uri": "https://localhost:8080/",
          "height": 449
        },
        "id": "1mozT0laCxLI",
        "outputId": "30c1b6b6-7361-4f2c-935e-1e88655bb43d"
      },
      "outputs": [
        {
          "data": {
            "image/png": "[encoded data removed]",
            "text/plain": [
              "<Figure size 640x480 with 1 Axes>"
            ]
          },
          "metadata": {},
          "output_type": "display_data"
        }
      ],
      "source": [
        "sns.histplot(data = agg_area);"
      ]
    },
    {
      "cell_type": "markdown",
      "metadata": {
        "id": "9J_stznfEQNY"
      },
      "source": [
        "Agora, analisando o gráfico acima, percebe-se uma maior frequência de imóveis com áreas entre 50 e 60 metros quadrados e temos pouquíssimos casos com áreas menores que 50. Portanto, é plausível afimar que a grande maioria dos casos de imóveis disponíveis para alugar em Porto ou Barcelona e que atendem as premissas do projeto, tem áreas entre 50 e 100 metros quadrados."
      ]
    },
    {
      "cell_type": "markdown",
      "metadata": {
        "id": "roVP-nRiEljg"
      },
      "source": [
        "Avaliou-se agora o histograma do preço, filtrado por cidade,"
      ]
    },
    {
      "cell_type": "code",
      "execution_count": 41,
      "metadata": {
        "colab": {
          "base_uri": "https://localhost:8080/",
          "height": 112
        },
        "id": "Aub5rcMEDGwI",
        "outputId": "1b8e5fbc-02da-4884-b08d-e4505df54765"
      },
      "outputs": [
        {
          "data": {
            "text/html": [
              "<div>\n",
              "<style scoped>\n",
              "    .dataframe tbody tr th:only-of-type {\n",
              "        vertical-align: middle;\n",
              "    }\n",
              "\n",
              "    .dataframe tbody tr th {\n",
              "        vertical-align: top;\n",
              "    }\n",
              "\n",
              "    .dataframe thead th {\n",
              "        text-align: right;\n",
              "    }\n",
              "</style>\n",
              "<table border=\"1\" class=\"dataframe\">\n",
              "  <thead>\n",
              "    <tr style=\"text-align: right;\">\n",
              "      <th></th>\n",
              "      <th>city</th>\n",
              "      <th>total</th>\n",
              "    </tr>\n",
              "  </thead>\n",
              "  <tbody>\n",
              "    <tr>\n",
              "      <th>0</th>\n",
              "      <td>Barcelona</td>\n",
              "      <td>2683.503759</td>\n",
              "    </tr>\n",
              "    <tr>\n",
              "      <th>1</th>\n",
              "      <td>Porto</td>\n",
              "      <td>2161.947522</td>\n",
              "    </tr>\n",
              "  </tbody>\n",
              "</table>\n",
              "</div>"
            ],
            "text/plain": [
              "        city        total\n",
              "0  Barcelona  2683.503759\n",
              "1      Porto  2161.947522"
            ]
          },
          "execution_count": 41,
          "metadata": {},
          "output_type": "execute_result"
        }
      ],
      "source": [
        "agg_city_price = agg_city_price.reset_index()\n",
        "agg_city_price"
      ]
    },
    {
      "cell_type": "code",
      "execution_count": 42,
      "metadata": {
        "colab": {
          "base_uri": "https://localhost:8080/",
          "height": 449
        },
        "id": "iLRE4p3wDyap",
        "outputId": "4c6ef959-9742-403d-c15d-a173ba0ff9c5"
      },
      "outputs": [
        {
          "data": {
            "image/png": "[encoded data removed]",
            "text/plain": [
              "<Figure size 640x480 with 1 Axes>"
            ]
          },
          "metadata": {},
          "output_type": "display_data"
        }
      ],
      "source": [
        "sns.histplot(data = aluguel_casa, x = 'total', hue = 'city');   # o arguemento \"hue\" é usado justamente para segmentar o histrograma dos preços em função de alguma outra coluna\n",
        "                                                                # neste caso, segmentamos por cidade (hue = 'city')"
      ]
    },
    {
      "cell_type": "markdown",
      "metadata": {
        "id": "DqtM0uZhFhHi"
      },
      "source": [
        "Analisando o gráfico acima, percebe-se que a frequência de imóveis com aluguel mais barato é maior na cidade do Porto em comparação a Barcelona. Por outro lado, conforme o preço do aluguel aumenta, a variedade de imóveis também cresce em Barcelona, o que não ocorre na cidade do Porto."
      ]
    },
    {
      "cell_type": "markdown",
      "metadata": {
        "id": "XDy3ZeFoF_pa"
      },
      "source": [
        "Com esta análise, levando em consideração também o valor de preço médio de aluguel calculado anteriormente, concluímos que é mais fácil achar imóveis mais baratos, e que atendem as premissas do negócio, na cidade do Porto do que em Barcelona."
      ]
    },
    {
      "cell_type": "markdown",
      "metadata": {
        "id": "_q41jw0YGz11"
      },
      "source": [
        "## Selecionando o apartamento (conclusão do Case)"
      ]
    },
    {
      "cell_type": "markdown",
      "metadata": {
        "id": "YFvI6WwWG_Tw"
      },
      "source": [
        "Como visto anteriormente, a cidade do Porto tem mais opções com imóveis mais baratos. E, sabe-se que o casal tem o preço gasto total como uma das suas prioridades, filtrou-se o dataset para apresentar somente as opções disponíveis em Porto."
      ]
    },
    {
      "cell_type": "code",
      "execution_count": 43,
      "metadata": {
        "id": "BbpibBVOEGRf"
      },
      "outputs": [],
      "source": [
        "aluguel_casa = aluguel_casa[(aluguel_casa['city'] == 'Porto')]"
      ]
    },
    {
      "cell_type": "code",
      "execution_count": 44,
      "metadata": {
        "colab": {
          "base_uri": "https://localhost:8080/",
          "height": 206
        },
        "id": "iwanqyHHHUmZ",
        "outputId": "4a97e760-277c-45c8-8795-be8856ec79ac"
      },
      "outputs": [
        {
          "data": {
            "text/html": [
              "<div>\n",
              "<style scoped>\n",
              "    .dataframe tbody tr th:only-of-type {\n",
              "        vertical-align: middle;\n",
              "    }\n",
              "\n",
              "    .dataframe tbody tr th {\n",
              "        vertical-align: top;\n",
              "    }\n",
              "\n",
              "    .dataframe thead th {\n",
              "        text-align: right;\n",
              "    }\n",
              "</style>\n",
              "<table border=\"1\" class=\"dataframe\">\n",
              "  <thead>\n",
              "    <tr style=\"text-align: right;\">\n",
              "      <th></th>\n",
              "      <th>index</th>\n",
              "      <th>city</th>\n",
              "      <th>area</th>\n",
              "      <th>rooms</th>\n",
              "      <th>bathroom</th>\n",
              "      <th>parking_spaces</th>\n",
              "      <th>floor</th>\n",
              "      <th>animal</th>\n",
              "      <th>furniture</th>\n",
              "      <th>hoa</th>\n",
              "      <th>rent_amount</th>\n",
              "      <th>property_tax</th>\n",
              "      <th>fire_insurance</th>\n",
              "      <th>total</th>\n",
              "    </tr>\n",
              "  </thead>\n",
              "  <tbody>\n",
              "    <tr>\n",
              "      <th>1</th>\n",
              "      <td>1</td>\n",
              "      <td>Porto</td>\n",
              "      <td>64</td>\n",
              "      <td>2</td>\n",
              "      <td>1</td>\n",
              "      <td>1</td>\n",
              "      <td>10</td>\n",
              "      <td>accept</td>\n",
              "      <td>not furnished</td>\n",
              "      <td>540</td>\n",
              "      <td>820.0</td>\n",
              "      <td>122.0</td>\n",
              "      <td>11.0</td>\n",
              "      <td>1493.0</td>\n",
              "    </tr>\n",
              "    <tr>\n",
              "      <th>15</th>\n",
              "      <td>15</td>\n",
              "      <td>Porto</td>\n",
              "      <td>56</td>\n",
              "      <td>2</td>\n",
              "      <td>1</td>\n",
              "      <td>1</td>\n",
              "      <td>1</td>\n",
              "      <td>accept</td>\n",
              "      <td>not furnished</td>\n",
              "      <td>345</td>\n",
              "      <td>950.0</td>\n",
              "      <td>11.0</td>\n",
              "      <td>13.0</td>\n",
              "      <td>1319.0</td>\n",
              "    </tr>\n",
              "    <tr>\n",
              "      <th>16</th>\n",
              "      <td>16</td>\n",
              "      <td>Porto</td>\n",
              "      <td>188</td>\n",
              "      <td>2</td>\n",
              "      <td>3</td>\n",
              "      <td>8</td>\n",
              "      <td>-</td>\n",
              "      <td>accept</td>\n",
              "      <td>not furnished</td>\n",
              "      <td>0</td>\n",
              "      <td>3010.0</td>\n",
              "      <td>584.0</td>\n",
              "      <td>46.0</td>\n",
              "      <td>3640.0</td>\n",
              "    </tr>\n",
              "    <tr>\n",
              "      <th>28</th>\n",
              "      <td>28</td>\n",
              "      <td>Porto</td>\n",
              "      <td>150</td>\n",
              "      <td>3</td>\n",
              "      <td>2</td>\n",
              "      <td>2</td>\n",
              "      <td>13</td>\n",
              "      <td>accept</td>\n",
              "      <td>not furnished</td>\n",
              "      <td>1370</td>\n",
              "      <td>1800.0</td>\n",
              "      <td>250.0</td>\n",
              "      <td>23.0</td>\n",
              "      <td>3443.0</td>\n",
              "    </tr>\n",
              "    <tr>\n",
              "      <th>36</th>\n",
              "      <td>36</td>\n",
              "      <td>Porto</td>\n",
              "      <td>94</td>\n",
              "      <td>3</td>\n",
              "      <td>3</td>\n",
              "      <td>2</td>\n",
              "      <td>1</td>\n",
              "      <td>accept</td>\n",
              "      <td>not furnished</td>\n",
              "      <td>750</td>\n",
              "      <td>2200.0</td>\n",
              "      <td>192.0</td>\n",
              "      <td>28.0</td>\n",
              "      <td>3170.0</td>\n",
              "    </tr>\n",
              "  </tbody>\n",
              "</table>\n",
              "</div>"
            ],
            "text/plain": [
              "    index   city  area  rooms  bathroom  parking_spaces floor  animal  \\\n",
              "1       1  Porto    64      2         1               1    10  accept   \n",
              "15     15  Porto    56      2         1               1     1  accept   \n",
              "16     16  Porto   188      2         3               8     -  accept   \n",
              "28     28  Porto   150      3         2               2    13  accept   \n",
              "36     36  Porto    94      3         3               2     1  accept   \n",
              "\n",
              "        furniture   hoa  rent_amount  property_tax  fire_insurance   total  \n",
              "1   not furnished   540        820.0         122.0            11.0  1493.0  \n",
              "15  not furnished   345        950.0          11.0            13.0  1319.0  \n",
              "16  not furnished     0       3010.0         584.0            46.0  3640.0  \n",
              "28  not furnished  1370       1800.0         250.0            23.0  3443.0  \n",
              "36  not furnished   750       2200.0         192.0            28.0  3170.0  "
            ]
          },
          "execution_count": 44,
          "metadata": {},
          "output_type": "execute_result"
        }
      ],
      "source": [
        "aluguel_casa.head()"
      ]
    },
    {
      "cell_type": "markdown",
      "metadata": {
        "id": "A0wx2JlkJGKn"
      },
      "source": [
        "Avaliando-se a distribuição da quantidade de imóveis disponíveis conforme o andar,"
      ]
    },
    {
      "cell_type": "code",
      "execution_count": 45,
      "metadata": {
        "colab": {
          "base_uri": "https://localhost:8080/"
        },
        "id": "Z5x3XQ_yHm1J",
        "outputId": "2a29de72-f6e7-4453-cf2b-b5be008cf867"
      },
      "outputs": [
        {
          "data": {
            "text/plain": [
              "floor\n",
              "-     77\n",
              "1     52\n",
              "3     51\n",
              "2     31\n",
              "4     26\n",
              "7     20\n",
              "5     16\n",
              "6     13\n",
              "11    11\n",
              "9      9\n",
              "8      7\n",
              "10     6\n",
              "12     6\n",
              "15     5\n",
              "13     4\n",
              "17     3\n",
              "16     2\n",
              "19     1\n",
              "18     1\n",
              "14     1\n",
              "51     1\n",
              "Name: count, dtype: int64"
            ]
          },
          "execution_count": 45,
          "metadata": {},
          "output_type": "execute_result"
        }
      ],
      "source": [
        "aluguel_casa['floor'].value_counts()"
      ]
    },
    {
      "cell_type": "markdown",
      "metadata": {
        "id": "96zOvqVHJZ8p"
      },
      "source": [
        "Criou-se um agrupamento dos preços médios dos apartamentos por andar,"
      ]
    },
    {
      "cell_type": "code",
      "execution_count": 46,
      "metadata": {
        "id": "Gkq9l3IsI7nr"
      },
      "outputs": [],
      "source": [
        "agg_floor_price = aluguel_casa.groupby(by = 'floor')['total'].agg('mean').reset_index()"
      ]
    },
    {
      "cell_type": "markdown",
      "metadata": {
        "id": "F3xDwyOnJhPS"
      },
      "source": [
        "Plotando-se um gráfico de barras deste agrupamento,"
      ]
    },
    {
      "cell_type": "code",
      "execution_count": 47,
      "metadata": {
        "colab": {
          "base_uri": "https://localhost:8080/",
          "height": 449
        },
        "id": "oHZoGgw2Jfn6",
        "outputId": "54dfa8d5-2faa-4fce-81a1-9ab71961d9a4"
      },
      "outputs": [
        {
          "data": {
            "image/png": "[encoded data removed]",
            "text/plain": [
              "<Figure size 640x480 with 1 Axes>"
            ]
          },
          "metadata": {},
          "output_type": "display_data"
        }
      ],
      "source": [
        "sns.barplot(data = agg_floor_price, x = 'floor', y= 'total', color = 'blue');"
      ]
    },
    {
      "cell_type": "markdown",
      "metadata": {
        "id": "G41brg1fKZow"
      },
      "source": [
        "Sabe-se que o cliente deseja apartamentos em andares mais altos pois valoriza mais o imóvel. Com isso, avaliando o gráfico acima percebe-se que os apartamentos do décimo sexto andar tem preços consideravelmente menores que os demais de andares mais altos e também apresenta um preço relativamente Ok se comparado a andares menores."
      ]
    },
    {
      "cell_type": "markdown",
      "metadata": {
        "id": "r92LHkaEK7sh"
      },
      "source": [
        "Portanto, analisou-se então somente os apartamentos do décimo sexto andar,"
      ]
    },
    {
      "cell_type": "code",
      "execution_count": 48,
      "metadata": {
        "colab": {
          "base_uri": "https://localhost:8080/",
          "height": 112
        },
        "id": "p9M900WCJvzr",
        "outputId": "d30bfadd-94b2-44c0-c4f4-11ee60ffa26d"
      },
      "outputs": [
        {
          "data": {
            "text/html": [
              "<div>\n",
              "<style scoped>\n",
              "    .dataframe tbody tr th:only-of-type {\n",
              "        vertical-align: middle;\n",
              "    }\n",
              "\n",
              "    .dataframe tbody tr th {\n",
              "        vertical-align: top;\n",
              "    }\n",
              "\n",
              "    .dataframe thead th {\n",
              "        text-align: right;\n",
              "    }\n",
              "</style>\n",
              "<table border=\"1\" class=\"dataframe\">\n",
              "  <thead>\n",
              "    <tr style=\"text-align: right;\">\n",
              "      <th></th>\n",
              "      <th>index</th>\n",
              "      <th>city</th>\n",
              "      <th>area</th>\n",
              "      <th>rooms</th>\n",
              "      <th>bathroom</th>\n",
              "      <th>parking_spaces</th>\n",
              "      <th>floor</th>\n",
              "      <th>animal</th>\n",
              "      <th>furniture</th>\n",
              "      <th>hoa</th>\n",
              "      <th>rent_amount</th>\n",
              "      <th>property_tax</th>\n",
              "      <th>fire_insurance</th>\n",
              "      <th>total</th>\n",
              "    </tr>\n",
              "  </thead>\n",
              "  <tbody>\n",
              "    <tr>\n",
              "      <th>1843</th>\n",
              "      <td>1843</td>\n",
              "      <td>Porto</td>\n",
              "      <td>100</td>\n",
              "      <td>2</td>\n",
              "      <td>1</td>\n",
              "      <td>0</td>\n",
              "      <td>16</td>\n",
              "      <td>accept</td>\n",
              "      <td>not furnished</td>\n",
              "      <td>550</td>\n",
              "      <td>900.0</td>\n",
              "      <td>61.0</td>\n",
              "      <td>12.0</td>\n",
              "      <td>1523.0</td>\n",
              "    </tr>\n",
              "    <tr>\n",
              "      <th>5175</th>\n",
              "      <td>5175</td>\n",
              "      <td>Porto</td>\n",
              "      <td>72</td>\n",
              "      <td>2</td>\n",
              "      <td>1</td>\n",
              "      <td>2</td>\n",
              "      <td>16</td>\n",
              "      <td>accept</td>\n",
              "      <td>not furnished</td>\n",
              "      <td>730</td>\n",
              "      <td>1200.0</td>\n",
              "      <td>89.0</td>\n",
              "      <td>16.0</td>\n",
              "      <td>2035.0</td>\n",
              "    </tr>\n",
              "  </tbody>\n",
              "</table>\n",
              "</div>"
            ],
            "text/plain": [
              "      index   city  area  rooms  bathroom  parking_spaces floor  animal  \\\n",
              "1843   1843  Porto   100      2         1               0    16  accept   \n",
              "5175   5175  Porto    72      2         1               2    16  accept   \n",
              "\n",
              "          furniture  hoa  rent_amount  property_tax  fire_insurance   total  \n",
              "1843  not furnished  550        900.0          61.0            12.0  1523.0  \n",
              "5175  not furnished  730       1200.0          89.0            16.0  2035.0  "
            ]
          },
          "execution_count": 48,
          "metadata": {},
          "output_type": "execute_result"
        }
      ],
      "source": [
        "sixteenth_floor = aluguel_casa[(aluguel_casa['floor'] == 16)]\n",
        "sixteenth_floor.head()"
      ]
    },
    {
      "cell_type": "markdown",
      "metadata": {
        "id": "gs2_NxaqL3Wr"
      },
      "source": [
        "A partir disso, tem-se dois 'finalistas'. O primeiro apresenta área maior, não tem vaga de garagem mas tem um preço total menor. O segundo é mais caro, é menor mas tem duas vagas de garagem. Importante destacar que ambos os dois se encaixam em todas as premissas de negócio (aceitam animais, tem de 2 a 3 quartos, o preço total é menor ou igual a 4000 euros e estão em um andar mais elevado). Portanto, cabe agora ao cliente decidir qual mais o satisfaz.\n",
        "\n",
        "Supondo que o cliente não tem carro, ele então seleciona o apartamento com índice 1843, pois é o que mais se encaixa sem sua realidade. Se o casal tiver veículo, então é mais aconselhável escolher o apartamento com índice 5175."
      ]
    }
  ],
  "metadata": {
    "colab": {
      "authorship_tag": "ABX9TyM1atgHutCsjeepRZ9iiMj2",
      "collapsed_sections": [
        "sjK0YyIRSat4",
        "dzG9XDKz-UUM",
        "_q41jw0YGz11"
      ],
      "include_colab_link": true,
      "provenance": []
    },
    "kernelspec": {
      "display_name": "Python 3",
      "name": "python3"
    },
    "language_info": {
      "codemirror_mode": {
        "name": "ipython",
        "version": 3
      },
      "file_extension": ".py",
      "mimetype": "text/x-python",
      "name": "python",
      "nbconvert_exporter": "python",
      "pygments_lexer": "ipython3",
      "version": "3.11.2"
    }
  },
  "nbformat": 4,
  "nbformat_minor": 0
}
